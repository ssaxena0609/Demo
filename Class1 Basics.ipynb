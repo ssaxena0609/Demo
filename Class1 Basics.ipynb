{
 "cells": [
  {
   "cell_type": "markdown",
   "id": "2140fddb-42e7-4d10-b662-d561c5c00bc9",
   "metadata": {},
   "source": [
    "## Statements"
   ]
  },
  {
   "cell_type": "code",
   "execution_count": 11,
   "id": "889ceb0e-9bc2-4e3b-ab0d-fedbaa65de03",
   "metadata": {},
   "outputs": [],
   "source": [
    "#Python statements"
   ]
  },
  {
   "cell_type": "code",
   "execution_count": 13,
   "id": "cf41351e-6d6b-47b6-bf8e-7f45ef5ad1dc",
   "metadata": {},
   "outputs": [
    {
     "data": {
      "text/plain": [
       "0"
      ]
     },
     "execution_count": 13,
     "metadata": {},
     "output_type": "execute_result"
    }
   ],
   "source": [
    "2%2"
   ]
  },
  {
   "cell_type": "code",
   "execution_count": 15,
   "id": "0853bec8-09ef-4a4c-afc5-63668881f162",
   "metadata": {},
   "outputs": [
    {
     "data": {
      "text/plain": [
       "1.0"
      ]
     },
     "execution_count": 15,
     "metadata": {},
     "output_type": "execute_result"
    }
   ],
   "source": [
    "2/2"
   ]
  },
  {
   "cell_type": "code",
   "execution_count": 17,
   "id": "795e4044-d1f0-47cf-86a0-bad72e8fcd79",
   "metadata": {},
   "outputs": [
    {
     "data": {
      "text/plain": [
       "1"
      ]
     },
     "execution_count": 17,
     "metadata": {},
     "output_type": "execute_result"
    }
   ],
   "source": [
    "2//2"
   ]
  },
  {
   "cell_type": "code",
   "execution_count": 19,
   "id": "5e13d112-651f-4f7d-bbdf-0cd3ddfb735a",
   "metadata": {},
   "outputs": [
    {
     "name": "stdout",
     "output_type": "stream",
     "text": [
      "hello world\n"
     ]
    }
   ],
   "source": [
    "print(\"hello world\")"
   ]
  },
  {
   "cell_type": "code",
   "execution_count": 21,
   "id": "418c0fc1-28f1-4ac7-ae99-01937fb35502",
   "metadata": {},
   "outputs": [
    {
     "data": {
      "text/plain": [
       "str"
      ]
     },
     "execution_count": 21,
     "metadata": {},
     "output_type": "execute_result"
    }
   ],
   "source": [
    "a=\"Sachin\"\n",
    "type(a)"
   ]
  },
  {
   "cell_type": "code",
   "execution_count": 23,
   "id": "94da2d19-83e2-4dae-b260-902760501e80",
   "metadata": {},
   "outputs": [
    {
     "data": {
      "text/plain": [
       "float"
      ]
     },
     "execution_count": 23,
     "metadata": {},
     "output_type": "execute_result"
    }
   ],
   "source": [
    "a=2.5\n",
    "type(a)"
   ]
  },
  {
   "cell_type": "code",
   "execution_count": 29,
   "id": "71fbeac9-adf2-472e-85cf-8a19d592bf3b",
   "metadata": {},
   "outputs": [
    {
     "ename": "SyntaxError",
     "evalue": "Missing parentheses in call to 'print'. Did you mean print(...)? (3511173741.py, line 3)",
     "output_type": "error",
     "traceback": [
      "\u001b[1;36m  Cell \u001b[1;32mIn[29], line 3\u001b[1;36m\u001b[0m\n\u001b[1;33m    print \"x is greater than 5\"\u001b[0m\n\u001b[1;37m    ^\u001b[0m\n\u001b[1;31mSyntaxError\u001b[0m\u001b[1;31m:\u001b[0m Missing parentheses in call to 'print'. Did you mean print(...)?\n"
     ]
    }
   ],
   "source": [
    "x = 6\n",
    "if x > 5:\n",
    "    print \"x is greater than 5\"\n",
    "else:\n",
    "    print \" x is less than 5\""
   ]
  },
  {
   "cell_type": "code",
   "execution_count": 31,
   "id": "26777a95-ba15-438a-be35-bc8d189f42f0",
   "metadata": {},
   "outputs": [
    {
     "name": "stdout",
     "output_type": "stream",
     "text": [
      "Eligible to vote\n"
     ]
    }
   ],
   "source": [
    "x=19\n",
    "if x > 18:\n",
    "    print(\"Eligible to vote\")\n",
    "else:\n",
    "    print(\"not eligible to vote\")\n",
    "    "
   ]
  },
  {
   "cell_type": "code",
   "execution_count": 33,
   "id": "71b6d280-475e-470c-ab34-30437bf96d1f",
   "metadata": {},
   "outputs": [
    {
     "name": "stdout",
     "output_type": "stream",
     "text": [
      "0\n",
      "1\n",
      "32\n",
      "243\n",
      "1024\n",
      "3125\n",
      "7776\n",
      "16807\n",
      "32768\n",
      "59049\n"
     ]
    }
   ],
   "source": [
    "for i in range(10):\n",
    "    print(i**5)\n"
   ]
  },
  {
   "cell_type": "markdown",
   "id": "a926fdbb-51fe-43c2-96d8-d7c9ec95d4c5",
   "metadata": {},
   "source": []
  },
  {
   "cell_type": "code",
   "execution_count": 35,
   "id": "b4766ed5-8143-4f19-8018-5db5bcb54542",
   "metadata": {},
   "outputs": [
    {
     "name": "stdout",
     "output_type": "stream",
     "text": [
      "['False', 'None', 'True', 'and', 'as', 'assert', 'async', 'await', 'break', 'class', 'continue', 'def', 'del', 'elif', 'else', 'except', 'finally', 'for', 'from', 'global', 'if', 'import', 'in', 'is', 'lambda', 'nonlocal', 'not', 'or', 'pass', 'raise', 'return', 'try', 'while', 'with', 'yield']\n"
     ]
    }
   ],
   "source": [
    "import keyword\n",
    "print(keyword.kwlist)"
   ]
  },
  {
   "cell_type": "code",
   "execution_count": 39,
   "id": "6d270f7f-5357-4f71-9b1d-148f551b0e0a",
   "metadata": {},
   "outputs": [
    {
     "name": "stdout",
     "output_type": "stream",
     "text": [
      "<built-in function id>\n"
     ]
    },
    {
     "ename": "TypeError",
     "evalue": "'NoneType' object is not callable",
     "output_type": "error",
     "traceback": [
      "\u001b[1;31m---------------------------------------------------------------------------\u001b[0m",
      "\u001b[1;31mTypeError\u001b[0m                                 Traceback (most recent call last)",
      "Cell \u001b[1;32mIn[39], line 3\u001b[0m\n\u001b[0;32m      1\u001b[0m a\u001b[38;5;241m=\u001b[39m\u001b[38;5;241m10\u001b[39m\n\u001b[0;32m      2\u001b[0m b\u001b[38;5;241m=\u001b[39m\u001b[38;5;241m10\u001b[39m\n\u001b[1;32m----> 3\u001b[0m \u001b[38;5;28mprint\u001b[39m(\u001b[38;5;28mid\u001b[39m)(a)\n",
      "\u001b[1;31mTypeError\u001b[0m: 'NoneType' object is not callable"
     ]
    }
   ],
   "source": [
    "a=10\n",
    "b=10\n",
    "print(id)(a)"
   ]
  },
  {
   "cell_type": "code",
   "execution_count": 45,
   "id": "9abcc12c-ad09-4a46-8650-3f8c55ea14e9",
   "metadata": {},
   "outputs": [
    {
     "data": {
      "text/plain": [
       "True"
      ]
     },
     "execution_count": 45,
     "metadata": {},
     "output_type": "execute_result"
    }
   ],
   "source": [
    "a = bool(10)\n",
    "a"
   ]
  },
  {
   "cell_type": "code",
   "execution_count": 61,
   "id": "d059291c-8a09-40b8-8314-85bdd16718eb",
   "metadata": {},
   "outputs": [],
   "source": [
    "firstname = \"a\"\n",
    "lastname = \"b\"\n",
    "c =  firstname + lastname"
   ]
  },
  {
   "cell_type": "markdown",
   "id": "490592f4-591d-4953-a4de-1eab8049afdb",
   "metadata": {},
   "source": []
  },
  {
   "cell_type": "code",
   "execution_count": 53,
   "id": "dc73d26f-4c43-4c32-b9d4-c9bc46fbfc48",
   "metadata": {},
   "outputs": [
    {
     "name": "stdin",
     "output_type": "stream",
     "text": [
      "Enter your age 5\n"
     ]
    },
    {
     "name": "stdout",
     "output_type": "stream",
     "text": [
      "Grow up\n"
     ]
    }
   ],
   "source": [
    "x = int(input (\"Enter your age\"))\n",
    "\n",
    "if x > 17:\n",
    "        print (\"Congrats\")\n",
    "else:\n",
    "        print (\"Grow up\")"
   ]
  },
  {
   "cell_type": "code",
   "execution_count": 63,
   "id": "fb667770-7114-4a4d-8af1-ce4f7ecb3052",
   "metadata": {},
   "outputs": [
    {
     "data": {
      "text/plain": [
       "'Sachin'"
      ]
     },
     "execution_count": 63,
     "metadata": {},
     "output_type": "execute_result"
    }
   ],
   "source": [
    "name = \"Sachin\"\n",
    "name[0:6]"
   ]
  },
  {
   "cell_type": "code",
   "execution_count": 67,
   "id": "3f431bd3-b0d0-4b54-b5ae-dabb61a77bbd",
   "metadata": {},
   "outputs": [
    {
     "data": {
      "text/plain": [
       "'Satis'"
      ]
     },
     "execution_count": 67,
     "metadata": {},
     "output_type": "execute_result"
    }
   ],
   "source": [
    "name = \"Satish\"\n",
    "name[0:5]"
   ]
  },
  {
   "cell_type": "code",
   "execution_count": 69,
   "id": "35d0e383-22d2-43c4-9b2b-b6926e49ffb5",
   "metadata": {},
   "outputs": [
    {
     "data": {
      "text/plain": [
       "'Sachin'"
      ]
     },
     "execution_count": 69,
     "metadata": {},
     "output_type": "execute_result"
    }
   ],
   "source": [
    "sentence = \"    Sachin   \"\n",
    "sentence.strip()"
   ]
  },
  {
   "cell_type": "code",
   "execution_count": 71,
   "id": "2b5484db-bd4e-4e90-adcd-a8531cf9f950",
   "metadata": {},
   "outputs": [
    {
     "name": "stdout",
     "output_type": "stream",
     "text": [
      "['Sachin']\n"
     ]
    },
    {
     "data": {
      "text/plain": [
       "'Sachin'"
      ]
     },
     "execution_count": 71,
     "metadata": {},
     "output_type": "execute_result"
    }
   ],
   "source": [
    "words = sentence.split()\n",
    "print(words)\n",
    "\" \".join(words)"
   ]
  },
  {
   "cell_type": "code",
   "execution_count": null,
   "id": "da51a8b3-1814-4e84-8bba-99006a2838c7",
   "metadata": {},
   "outputs": [],
   "source": [
    ",9l"
   ]
  },
  {
   "cell_type": "code",
   "execution_count": 3,
   "id": "c2dc0112-9080-4be0-9028-a2894f722e4b",
   "metadata": {},
   "outputs": [
    {
     "name": "stdout",
     "output_type": "stream",
     "text": [
      "SachinSaxena\n"
     ]
    }
   ],
   "source": [
    "first_name = \"Sachin\"\n",
    "second_name = \"Saxena\"\n",
    "full_name = first_name + second_name\n",
    "print(full_name)"
   ]
  },
  {
   "cell_type": "code",
   "execution_count": null,
   "id": "401a5260-3c5b-4bc1-9c94-830dc5c07ad6",
   "metadata": {},
   "outputs": [],
   "source": []
  },
  {
   "cell_type": "code",
   "execution_count": null,
   "id": "d777b347-b1a5-450f-917c-02805cf4d8a0",
   "metadata": {},
   "outputs": [],
   "source": []
  },
  {
   "cell_type": "code",
   "execution_count": null,
   "id": "f55c0cba-bb7e-4edd-a6b0-5838e595d919",
   "metadata": {},
   "outputs": [],
   "source": []
  },
  {
   "cell_type": "code",
   "execution_count": null,
   "id": "6ee7f6d9-258d-4619-be9b-e8f03221a586",
   "metadata": {},
   "outputs": [],
   "source": []
  },
  {
   "cell_type": "code",
   "execution_count": null,
   "id": "7fd7b653-db02-41d5-a7f4-51695d2b6d30",
   "metadata": {},
   "outputs": [],
   "source": []
  },
  {
   "cell_type": "code",
   "execution_count": null,
   "id": "dff701c1-0dda-4197-a835-dc1bc7df1343",
   "metadata": {},
   "outputs": [],
   "source": []
  },
  {
   "cell_type": "code",
   "execution_count": null,
   "id": "3a6dc5cc-7ddb-4d6a-a64c-28de5c5680e8",
   "metadata": {},
   "outputs": [],
   "source": []
  },
  {
   "cell_type": "code",
   "execution_count": null,
   "id": "6781e03d-1b9d-4f70-9513-7f4e46c49459",
   "metadata": {},
   "outputs": [],
   "source": []
  },
  {
   "cell_type": "code",
   "execution_count": null,
   "id": "2b953846-95be-4e16-9695-c385ae94bcb7",
   "metadata": {},
   "outputs": [],
   "source": []
  }
 ],
 "metadata": {
  "kernelspec": {
   "display_name": "Python 3 (ipykernel)",
   "language": "python",
   "name": "python3"
  },
  "language_info": {
   "codemirror_mode": {
    "name": "ipython",
    "version": 3
   },
   "file_extension": ".py",
   "mimetype": "text/x-python",
   "name": "python",
   "nbconvert_exporter": "python",
   "pygments_lexer": "ipython3",
   "version": "3.12.4"
  }
 },
 "nbformat": 4,
 "nbformat_minor": 5
}
